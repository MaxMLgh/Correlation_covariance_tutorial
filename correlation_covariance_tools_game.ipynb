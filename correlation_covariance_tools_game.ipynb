{
  "nbformat": 4,
  "nbformat_minor": 0,
  "metadata": {
    "celltoolbar": "Raw Cell Format",
    "hide_input": false,
    "kernelspec": {
      "display_name": "Python 3",
      "language": "python",
      "name": "python3"
    },
    "language_info": {
      "codemirror_mode": {
        "name": "ipython",
        "version": 3
      },
      "file_extension": ".py",
      "mimetype": "text/x-python",
      "name": "python",
      "nbconvert_exporter": "python",
      "pygments_lexer": "ipython3",
      "version": "3.7.4"
    },
    "latex_envs": {
      "LaTeX_envs_menu_present": true,
      "autoclose": false,
      "autocomplete": true,
      "bibliofile": "biblio.bib",
      "cite_by": "apalike",
      "current_citInitial": 1,
      "eqLabelWithNumbers": true,
      "eqNumInitial": 1,
      "hotkeys": {
        "equation": "Ctrl-E",
        "itemize": "Ctrl-I"
      },
      "labels_anchors": false,
      "latex_user_defs": false,
      "report_style_numbering": false,
      "user_envs_cfg": false
    },
    "nbTranslate": {
      "displayLangs": [
        "*"
      ],
      "hotkey": "alt-t",
      "langInMainMenu": true,
      "sourceLang": "en",
      "targetLang": "fr",
      "useGoogleTranslate": true
    },
    "toc": {
      "base_numbering": 1,
      "nav_menu": {},
      "number_sections": true,
      "sideBar": true,
      "skip_h1_title": false,
      "title_cell": "Table of Contents",
      "title_sidebar": "Contents",
      "toc_cell": false,
      "toc_position": {},
      "toc_section_display": true,
      "toc_window_display": false
    },
    "varInspector": {
      "cols": {
        "lenName": 16,
        "lenType": 16,
        "lenVar": 40
      },
      "kernels_config": {
        "python": {
          "delete_cmd_postfix": "",
          "delete_cmd_prefix": "del ",
          "library": "var_list.py",
          "varRefreshCmd": "print(var_dic_list())"
        },
        "r": {
          "delete_cmd_postfix": ") ",
          "delete_cmd_prefix": "rm(",
          "library": "var_list.r",
          "varRefreshCmd": "cat(var_dic_list()) "
        }
      },
      "types_to_exclude": [
        "module",
        "function",
        "builtin_function_or_method",
        "instance",
        "_Feature"
      ],
      "window_display": false
    },
    "colab": {
      "name": "correlation_covariance_tools_game.ipynb",
      "provenance": [],
      "include_colab_link": true
    }
  },
  "cells": [
    {
      "cell_type": "markdown",
      "metadata": {
        "id": "view-in-github",
        "colab_type": "text"
      },
      "source": [
        "<a href=\"https://colab.research.google.com/github/MaxMLgh/Correlation_covariance_tutorial/blob/main/correlation_covariance_tools_game.ipynb\" target=\"_parent\"><img src=\"https://colab.research.google.com/assets/colab-badge.svg\" alt=\"Open In Colab\"/></a>"
      ]
    },
    {
      "cell_type": "code",
      "metadata": {
        "cell_style": "center",
        "hide_input": false,
        "id": "hs3NttghfQks"
      },
      "source": [
        "import numpy as np\n",
        "import random\n",
        "import matplotlib.pyplot as plt\n",
        "import math\n",
        "from scipy.stats import linregress\n",
        "import ipywidgets as ipw\n",
        "from IPython.display import clear_output\n",
        "import warnings\n",
        "warnings.filterwarnings('ignore')"
      ],
      "execution_count": null,
      "outputs": []
    },
    {
      "cell_type": "code",
      "metadata": {
        "hide_input": false,
        "id": "EyBTIvUafQkx",
        "outputId": "4ad40135-fc16-4446-fab6-c88c7e6f226f"
      },
      "source": [
        "%%javascript\n",
        "IPython.OutputArea.prototype._should_scroll = function(lines) {\n",
        "    return false;\n",
        "}"
      ],
      "execution_count": null,
      "outputs": [
        {
          "output_type": "display_data",
          "data": {
            "application/javascript": [
              "IPython.OutputArea.prototype._should_scroll = function(lines) {\n",
              "    return false;\n",
              "}\n"
            ],
            "text/plain": [
              "<IPython.core.display.Javascript object>"
            ]
          },
          "metadata": {
            "tags": []
          }
        }
      ]
    },
    {
      "cell_type": "code",
      "metadata": {
        "id": "umZhJkm1fQkz",
        "outputId": "3ea55175-b783-40f1-f841-cd1cec3c3ec2"
      },
      "source": [
        "\"\"\" Jupyter is widened to full width of the screen \"\"\"\n",
        "from IPython.core.display import display, HTML\n",
        "display(HTML(\"<style>.container { width:100% !important; }</style>\"))"
      ],
      "execution_count": null,
      "outputs": [
        {
          "output_type": "display_data",
          "data": {
            "text/html": [
              "<style>.container { width:100% !important; }</style>"
            ],
            "text/plain": [
              "<IPython.core.display.HTML object>"
            ]
          },
          "metadata": {
            "tags": []
          }
        }
      ]
    },
    {
      "cell_type": "code",
      "metadata": {
        "id": "8TSUaFlgfQkz"
      },
      "source": [
        "class TextOnGraph:\n",
        "    def __init__(self, graph):\n",
        "        self.graph = graph\n",
        "        self.ax = graph.ax\n",
        "        self.x_text = self.ax.get_xlim()[0] + 0.02 * self.graph.square_size\n",
        "        self.y_text = self.ax.get_ylim()[1] - 0.02 * self.graph.square_size\n",
        "        self.label_param = {'color': 'green', \n",
        "                            'fontsize': self.graph.g_size * 1.6,'ha': 'left',\n",
        "                            'va': 'top', 'bbox': dict(boxstyle=\"round\",\n",
        "                            fc=\"white\", ec=\"black\", pad=0.2)}\n",
        "        \n",
        "    def draw_text(self, text, color = 'g'):\n",
        "        label_param = self.label_param\n",
        "        label_param['color'] = color\n",
        "        self.ax.text(self.x_text, self.y_text, text, self.label_param)\n",
        "        self.y_text -= 0.05 * self.graph.square_size"
      ],
      "execution_count": null,
      "outputs": []
    },
    {
      "cell_type": "code",
      "metadata": {
        "id": "BMqj-nsnfQk0"
      },
      "source": [
        "class Graph:\n",
        "    def __init__(self, data, ax, g_size=10):\n",
        "        self.g_size = g_size\n",
        "        self.data = data\n",
        "        self.ax = ax\n",
        "        self.square_size = None\n",
        "        self.ax.locator_params(nbins=int(10))\n",
        "        self.ax.tick_params(labelsize=g_size)\n",
        "\n",
        "    \"\"\" the graph is always a square of a side\n",
        "     equal to a bigger St.d(X or Y) * 5 \"\"\"\n",
        "\n",
        "    def set_square_size(self):\n",
        "        self.square_size = 5 * max(self.data.x_std, self.data.y_std)\n",
        "\n",
        "    def automatically_set_axis_limit(self):\n",
        "        self.ax.set_xlim(self.data.x_mu - 0.5 * self.square_size,\n",
        "                         self.data.x_mu + 0.5 * self.square_size)\n",
        "        self.ax.set_ylim(self.data.y_mu - 0.5 * self.square_size,\n",
        "                         self.data.y_mu + 0.5 * self.square_size)\n",
        "\n",
        "    def manually_set_axis_limit(self, x_lim, y_lim):\n",
        "        self.ax.set_xlim(x_lim)\n",
        "        self.ax.set_ylim(y_lim)\n",
        "\n",
        "    \"\"\" drawing a trend(red) line y = 'a_trend_line' * x + 'b_trend_line',\n",
        "    on which the trend was planned \"\"\"\n",
        "\n",
        "    def draw_trend_line(self):\n",
        "        a_trend_line = math.tan(self.data.alpha_rad)\n",
        "        b_trend_line = self.data.y_mu - a_trend_line * self.data.x_mu\n",
        "        x_lim = self.ax.get_xlim()\n",
        "        x_trend_line = np.array(x_lim)\n",
        "        y_trend_line = a_trend_line * x_trend_line + b_trend_line\n",
        "        self.ax.plot(x_trend_line, y_trend_line, '-r')\n",
        "        \n",
        "        \n",
        "    \"\"\" drawing a linear regression line y = 'a_lr_line' * x + 'b_lr_line',\n",
        "    on which the trend was planned \"\"\"\n",
        "    \n",
        "    def draw_linear_regression_line(self):\n",
        "        a_lr_line =  linregress(self.data.X_data, self.data.Y_data).slope\n",
        "        b_lr_line =  linregress(self.data.X_data, self.data.Y_data).intercept\n",
        "        x_lim = self.ax.get_xlim()\n",
        "        x_lr_line = np.array(x_lim)\n",
        "        y_lr_line = a_lr_line * x_lr_line + b_lr_line\n",
        "        self.ax.plot(x_lr_line, y_lr_line, '-y')\n",
        "        \n",
        "    \"\"\" drawing center of mass of the data\"\"\"\n",
        "\n",
        "    def drawing_center_of_new_coordinate_system(self):\n",
        "        self.ax.scatter(self.data.x_mu, self.data.y_mu,\n",
        "                        s=self.g_size * 25, color='y')\n",
        "\n",
        "    def draw_x_y_axis_new_coordinate_system(self):\n",
        "        x_lim = self.ax.get_xlim()\n",
        "        y_lim = self.ax.get_ylim()\n",
        "        self.ax.plot(x_lim, [self.data.y_mu, self.data.y_mu], '--c', )\n",
        "        self.ax.plot([self.data.x_mu, self.data.x_mu], y_lim, '--c')\n",
        "\n",
        "    def draw_grid(self):\n",
        "        self.ax.grid(color='b', ls='-.', lw=0.25)\n",
        "\n",
        "    \"\"\" plotting multiple color points \"\"\"\n",
        "\n",
        "    def plotting_colored_points(self):\n",
        "        for point_x, point_y in zip(self.data.X_data, self.data.Y_data):\n",
        "            if (point_x - self.data.x_mu) * (point_y - self.data.y_mu) > 0:\n",
        "                self.ax.scatter(point_x, point_y, s=self.g_size, color='g')\n",
        "            elif (point_x - self.data.x_mu) * (point_y - self.data.y_mu) < 0:\n",
        "                self.ax.scatter(point_x, point_y, s=self.g_size, color='r')\n",
        "            elif (point_x - self.data.x_mu) * (point_y - self.data.y_mu) == 0:\n",
        "                self.ax.scatter(point_x, point_y, s=self.g_size, color='b')\n",
        "\n",
        "    \"\"\" plotting one color points(black) \"\"\"\n",
        "\n",
        "    def plotting_black_points(self):\n",
        "        self.ax.scatter(self.data.X_data, self.data.Y_data,\n",
        "                        s=self.g_size, color='k')\n",
        "\n",
        "    def drawing_cov_rectangles(self):\n",
        "        \"\"\" calculating covariance with perfect linearity of points\n",
        "        with the same std of X and Y \"\"\"\n",
        "        covariance_ideal = self.data.x_std * self.data.y_std\n",
        "        \"\"\" calculating sides of rectangles for covariance \n",
        "        and ideal covariance \"\"\"\n",
        "\n",
        "        a_cov = (abs(self.data.cov / self.data.slope_line)) ** 0.5\n",
        "        a_cov_ideal = (abs(covariance_ideal / self.data.slope_line)) ** 0.5\n",
        "        color_rect = 'g'\n",
        "\n",
        "        \"\"\" when the covariance is negative rectangles are being drawn\n",
        "         in second quarter \"\"\"\n",
        "\n",
        "        if self.data.cov < 0:\n",
        "            a_cov = -a_cov\n",
        "            a_cov_ideal = -a_cov_ideal\n",
        "            color_rect = 'r'\n",
        "\n",
        "        b_cov = self.data.cov / a_cov\n",
        "        b_cov_ideal = abs(covariance_ideal / a_cov_ideal)\n",
        "\n",
        "        \"\"\"drawing rectangles\"\"\"\n",
        "        plt.gca().add_patch(plt.Rectangle((self.data.x_mu, self.data.y_mu),\n",
        "                        a_cov, b_cov, fill=False, color=color_rect,\n",
        "                        linewidth=self.g_size / 8))\n",
        "        plt.gca().add_patch(plt.Rectangle((self.data.x_mu, self.data.y_mu),\n",
        "                        a_cov_ideal, b_cov_ideal, fill=False, color='b',\n",
        "                        linewidth=self.g_size / 8))\n",
        "\n",
        "    def draw_all(self):\n",
        "        self.set_square_size()\n",
        "        self.automatically_set_axis_limit()\n",
        "        self.plotting_colored_points()\n",
        "        self.draw_trend_line()\n",
        "        self.draw_x_y_axis_new_coordinate_system()\n",
        "        self.drawing_center_of_new_coordinate_system()\n",
        "        self.draw_grid()\n",
        "        #self.draw_text()\n",
        "        #self.drawing_cov_rectangles()"
      ],
      "execution_count": null,
      "outputs": []
    },
    {
      "cell_type": "code",
      "metadata": {
        "id": "CjIowjAafQk1"
      },
      "source": [
        "\"\"\" Class to create data and calculate useful parameters of it \"\"\"\n",
        "class Data:\n",
        "    def __init__(self, alpha, y_sigma, sample_number=50, x_mu=180, x_sigma=5,\n",
        "                 y_mu=80):\n",
        "        self.alpha = alpha\n",
        "        self.alpha_rad = math.radians(alpha)\n",
        "        self.slope_line = math.tan(self.alpha_rad)\n",
        "        self.y_sigma = y_sigma\n",
        "        self.sample_number = sample_number\n",
        "        self.x_sigma = x_sigma\n",
        "        self.y_sigma = y_sigma * x_sigma\n",
        "        self.x_mu = x_mu\n",
        "        self.y_mu = y_mu\n",
        "        self.x_std = None\n",
        "        self.y_std = None\n",
        "        self.X_data = None\n",
        "        self.Y_data = None\n",
        "        self.cor = None\n",
        "        self.cov = None\n",
        "\n",
        "\n",
        "    def create_data(self):\n",
        "        \"\"\" We are getting two numpy samples in normal distribution.\n",
        "        The numbers are randomly chosen from normal dist of mean=0 and\n",
        "        standard deviation=x_sigma and y_sigma. \"\"\"\n",
        "        self.X_data = np.random.normal(0, self.x_sigma, self.sample_number)\n",
        "        self.Y_data = np.random.normal(0, self.y_sigma, self.sample_number)\n",
        "\n",
        "        \"\"\" Numpy sample can have different mean and St.d \n",
        "        that planned (e.g. -0.87 instead of 0). \n",
        "        That is the reason to adjust them again to mean=0. \"\"\"\n",
        "        self.X_data = self.X_data - np.mean(self.X_data)\n",
        "        self.Y_data = self.Y_data - np.mean(self.Y_data)\n",
        "        \"\"\" The next step is to rotate data by alpha angle around point(0,0).\n",
        "        Now distribution looks like tilted ellipse. \"\"\"\n",
        "        transformation_matrix = np.array(\n",
        "                [[math.cos(self.alpha_rad), math.sin(self.alpha_rad)],\n",
        "                [-math.sin(self.alpha_rad), math.cos(self.alpha_rad)]])\n",
        "        data_matrix = np.array([self.X_data, self.Y_data])\n",
        "        new_parameters = data_matrix.transpose().dot(transformation_matrix)\n",
        "        new_parameters = new_parameters.transpose()\n",
        "\n",
        "        \"\"\"  Data is being  shifted to new center of mass. \n",
        "        Planned x_mu and y_mu. \"\"\"\n",
        "        self.X_data = new_parameters[0] + self.x_mu\n",
        "        self.Y_data = new_parameters[1] + self.y_mu\n",
        "        \"\"\" Calculating useful parameters of the instance of a class \"\"\"\n",
        "        self.x_std = np.std(self.X_data)\n",
        "        self.y_std = np.std(self.Y_data)\n",
        "        self.cov = np.cov(self.X_data, self.Y_data, bias=True)[0][1]\n",
        "        self.cor = np.corrcoef(self.X_data, self.Y_data)[0][-1]"
      ],
      "execution_count": null,
      "outputs": []
    },
    {
      "cell_type": "code",
      "metadata": {
        "hide_input": false,
        "id": "ojuVV3N2fQk1"
      },
      "source": [
        "\"\"\" Class to create standardized version of data and its paramters \"\"\"\n",
        "\n",
        "\n",
        "class DataStandardized:\n",
        "    def __init__(self, old_data):\n",
        "        self.X_data = (old_data.X_data - old_data.x_mu) / old_data.x_std\n",
        "        self.Y_data = (old_data.Y_data - old_data.y_mu) / old_data.y_std\n",
        "        self.alpha = 45 if old_data.alpha >= 0 else -45\n",
        "        self.alpha_rad = math.radians(self.alpha)\n",
        "        self.slope_line = math.tan(self.alpha_rad)\n",
        "        self.sample_number = old_data.sample_number\n",
        "        self.x_mu = 0\n",
        "        self.y_mu = 0\n",
        "        self.x_std = 1\n",
        "        self.y_std = 1\n",
        "        self.cov = np.cov(self.X_data, self.Y_data, bias=True)[0][1]\n",
        "        self.cor = np.corrcoef(self.X_data, self.Y_data)[0][-1]"
      ],
      "execution_count": null,
      "outputs": []
    },
    {
      "cell_type": "code",
      "metadata": {
        "id": "wpJUxn2BfQk2"
      },
      "source": [
        "\"\"\" program will create the same 'random' \n",
        "numbers when parameters are the same \"\"\"\n",
        "def same_random_data():\n",
        "    np.random.seed(0)"
      ],
      "execution_count": null,
      "outputs": []
    },
    {
      "cell_type": "code",
      "metadata": {
        "id": "dXx8W4yzfQk2"
      },
      "source": [
        "\"\"\" Create a singular graph of data \"\"\"\n",
        "class InteractiveGraph:\n",
        "    def __init__(self):\n",
        "        self.data = None\n",
        "        self.g_size = 8\n",
        "        self.fig = None\n",
        "        self.previous_state = None\n",
        "        \n",
        "    def create_figure(self, tilt_angle, spread, n_sample_s, grid_box, \n",
        "                    trend_line_box, l_reg_box, color_box, rectangles_box, \n",
        "                    correlation_box, covariance_box, std_box, standardize_box,\n",
        "                    axis_box):\n",
        "        actual_state = (str(grid_box) + str(trend_line_box) + str(l_reg_box) \n",
        "            + str(color_box) + str(rectangles_box) + str(correlation_box)\n",
        "            + str(covariance_box) + str(std_box) + str(standardize_box)\n",
        "            + str(axis_box))\n",
        "\n",
        "        if actual_state == self.previous_state or self.previous_state == None:\n",
        "            self.data = Data(tilt_angle, spread, n_sample_s)\n",
        "            self.data.create_data()\n",
        "        self.previous_state = actual_state\n",
        "\n",
        "        if standardize_box:\n",
        "            self.fig = plt.figure(figsize=(2*self.g_size, self.g_size))\n",
        "\n",
        "            ax = self.fig.add_subplot(121)\n",
        "            ax.set_title('Data', fontsize=self.g_size*2)\n",
        "            self.create_graph(ax, self.data)\n",
        "\n",
        "            data_std = DataStandardized(self.data)\n",
        "            ax_std = self.fig.add_subplot(122)\n",
        "            ax_std.set_title('Standardized Data', \n",
        "                                   fontsize=self.g_size*2)\n",
        "            self.create_graph(ax_std, data_std)\n",
        "        else:\n",
        "            self.fig = plt.figure(figsize=(self.g_size, self.g_size))\n",
        "            ax = self.fig.add_subplot(111)\n",
        "            ax.set_title('Data', fontsize=self.g_size*2)\n",
        "            self.create_graph(ax, self.data)\n",
        "        \n",
        "    def create_graph(self, ax, data):\n",
        "        data_graph = Graph(data, ax, self.g_size)\n",
        "        data_graph.set_square_size()\n",
        "        data_graph.automatically_set_axis_limit()\n",
        "        data_graph.plotting_black_points()\n",
        "\n",
        "        text = TextOnGraph(data_graph)\n",
        "\n",
        "        if grid_box.value:\n",
        "            data_graph.draw_grid()\n",
        "        if axis_box.value:\n",
        "            data_graph.draw_x_y_axis_new_coordinate_system()\n",
        "            data_graph.drawing_center_of_new_coordinate_system()\n",
        "        if trend_line_box.value:\n",
        "            data_graph.draw_trend_line() \n",
        "        if l_reg_box.value:\n",
        "            data_graph.draw_linear_regression_line()\n",
        "        if color_box.value:\n",
        "            data_graph.plotting_colored_points()\n",
        "        if rectangles_box.value:\n",
        "            data_graph.drawing_cov_rectangles()    \n",
        "        if correlation_box.value:\n",
        "            text.draw_text('Correlation: ' + str(round(data.cor, 4)), 'g')        \n",
        "        if covariance_box.value:\n",
        "            text.draw_text('Cavariance: ' + str(round(data.cov, 4)), 'g')\n",
        "        if std_box.value:\n",
        "            text.draw_text('Std.X_data: ' + str(round(data.x_std, 4)), 'g')\n",
        "            text.draw_text('Std:Y_data: ' + str(round(data.y_std, 4)), 'g')\n",
        "        self.fig.show()"
      ],
      "execution_count": null,
      "outputs": []
    },
    {
      "cell_type": "code",
      "metadata": {
        "scrolled": false,
        "id": "mjX_QeTUfQk3",
        "outputId": "06f8e9e5-6a88-4d17-fdbe-3f777bb64165",
        "colab": {
          "referenced_widgets": [
            "5ba79747ecc544688a3527e43bd37a4f",
            "774c9223e50b43b1a598b24a3129285a",
            "e0f8b01f534c49c397463e70ebf4daa4",
            "ce2c3a58b11e4a278bb8406f208b7b45",
            "19545597cda3414ba24f9be65abab385"
          ]
        }
      },
      "source": [
        "\"\"\" check boxes and their parameters \"\"\"\n",
        "style = {'description_width': 'initial'}\n",
        "box_layout = ipw.Layout(width='60%')\n",
        "axis_box = ipw.Checkbox(description='Axis', style=style)\n",
        "grid_box = ipw.Checkbox(description='Grid', style=style)\n",
        "trend_line_box = ipw.Checkbox(description='Trend line(red)', style=style)\n",
        "l_reg_box = ipw.Checkbox(description='Lin Reg(yellow)', style=style)\n",
        "color_box = ipw.Checkbox(description='Color Dots', style=style)\n",
        "rectangles_box = ipw.Checkbox(description='Cov Rectangles', style=style)\n",
        "correlation_box = ipw.Checkbox(description='Correlation', style=style)\n",
        "covariance_box = ipw.Checkbox(description='Covariance', style=style)\n",
        "std_box = ipw.Checkbox(description='St. Deviation', style=style)\n",
        "standardize_box = ipw.Checkbox(description='Standardize', style=style)\n",
        "\n",
        "upper_boxes = ipw.widgets.HBox([grid_box, axis_box, trend_line_box, l_reg_box, \n",
        "                                color_box])\n",
        "lower_boxes = ipw.widgets.HBox([rectangles_box, correlation_box, \n",
        "                                covariance_box, std_box, standardize_box])\n",
        "all_boxes = ipw.widgets.VBox([upper_boxes, lower_boxes], \n",
        "                               layout = box_layout)\n",
        "\n",
        "\"\"\" sliders and their parameters \"\"\"\n",
        "slider_layout = ipw.Layout(width='400px', height='20px')\n",
        "\n",
        "n_sample_s = ipw.widgets.IntSlider(description='dots number', \n",
        "                        value=50, min=5, max = 200, step=5, \n",
        "                        layout = slider_layout, continuous_update=False)\n",
        "tilt_angle_s = ipw.widgets.IntSlider(description='tilt angle', \n",
        "                            value=60, min=-89, max=89, step=1, \n",
        "                            layout = slider_layout, continuous_update=False)\n",
        "spread_s = ipw.widgets.FloatSlider(description='spread', \n",
        "                        value=0.2, min=0, max = 1, step=0.05, \n",
        "                        layout = slider_layout, continuous_update=False)\n",
        "\n",
        "all_boxes = ipw.widgets.VBox([upper_boxes, lower_boxes], \n",
        "                               layout = box_layout)\n",
        "\n",
        "IG = InteractiveGraph()\n",
        "interact = ipw.interactive_output(IG.create_figure, \n",
        "            {'tilt_angle' : tilt_angle_s , 'spread' : spread_s,\n",
        "            'n_sample_s' : n_sample_s, 'grid_box' : grid_box, \n",
        "            'trend_line_box' : trend_line_box,\n",
        "            'l_reg_box' : l_reg_box, 'color_box' : color_box,\n",
        "            'rectangles_box' : rectangles_box, \n",
        "            'correlation_box' : correlation_box,\n",
        "            'covariance_box' : covariance_box, \n",
        "            'std_box' : std_box,\n",
        "            'standardize_box' : standardize_box,\n",
        "            'axis_box' : axis_box})\n",
        "display(all_boxes, n_sample_s, tilt_angle_s, spread_s, interact)"
      ],
      "execution_count": null,
      "outputs": [
        {
          "output_type": "display_data",
          "data": {
            "application/vnd.jupyter.widget-view+json": {
              "model_id": "5ba79747ecc544688a3527e43bd37a4f",
              "version_major": 2,
              "version_minor": 0
            },
            "text/plain": [
              "VBox(children=(HBox(children=(Checkbox(value=False, description='Grid', style=DescriptionStyle(description_wid…"
            ]
          },
          "metadata": {
            "tags": []
          }
        },
        {
          "output_type": "display_data",
          "data": {
            "application/vnd.jupyter.widget-view+json": {
              "model_id": "774c9223e50b43b1a598b24a3129285a",
              "version_major": 2,
              "version_minor": 0
            },
            "text/plain": [
              "IntSlider(value=50, continuous_update=False, description='dots number', layout=Layout(height='20px', width='40…"
            ]
          },
          "metadata": {
            "tags": []
          }
        },
        {
          "output_type": "display_data",
          "data": {
            "application/vnd.jupyter.widget-view+json": {
              "model_id": "e0f8b01f534c49c397463e70ebf4daa4",
              "version_major": 2,
              "version_minor": 0
            },
            "text/plain": [
              "IntSlider(value=60, continuous_update=False, description='tilt angle', layout=Layout(height='20px', width='400…"
            ]
          },
          "metadata": {
            "tags": []
          }
        },
        {
          "output_type": "display_data",
          "data": {
            "application/vnd.jupyter.widget-view+json": {
              "model_id": "ce2c3a58b11e4a278bb8406f208b7b45",
              "version_major": 2,
              "version_minor": 0
            },
            "text/plain": [
              "FloatSlider(value=0.2, continuous_update=False, description='spread', layout=Layout(height='20px', width='400p…"
            ]
          },
          "metadata": {
            "tags": []
          }
        },
        {
          "output_type": "display_data",
          "data": {
            "application/vnd.jupyter.widget-view+json": {
              "model_id": "19545597cda3414ba24f9be65abab385",
              "version_major": 2,
              "version_minor": 0
            },
            "text/plain": [
              "Output()"
            ]
          },
          "metadata": {
            "tags": []
          }
        }
      ]
    },
    {
      "cell_type": "code",
      "metadata": {
        "id": "rCjiUyx8fQk4"
      },
      "source": [
        ""
      ],
      "execution_count": null,
      "outputs": []
    },
    {
      "cell_type": "code",
      "metadata": {
        "id": "rR-0SBxzfQk4"
      },
      "source": [
        "def create_graph(tilt_angle, spread, param):\n",
        "    data = Data(tilt_angle, spread)\n",
        "    data.create_data()\n",
        "\n",
        "    g_size = param.g_size\n",
        "    fig = plt.figure(figsize=(g_size, g_size))\n",
        "    ax = fig.add_subplot(111)\n",
        "\n",
        "    data_graph = Graph(data, ax, g_size)\n",
        "    data_graph.set_square_size()\n",
        "    data_graph.automatically_set_axis_limit()\n",
        "    data_graph.plotting_black_points()\n",
        "    param.data = data"
      ],
      "execution_count": null,
      "outputs": []
    },
    {
      "cell_type": "code",
      "metadata": {
        "id": "IX1OAKpbfQk4"
      },
      "source": [
        "def show_correct_graph(param):\n",
        "    fig = plt.figure(figsize=(2*param.g_size, 1.5*param.g_size))\n",
        "    gs = fig.add_gridspec(3, 4)\n",
        "\n",
        "    ax = fig.add_subplot(gs[:-1, :2])\n",
        "\n",
        "    data_graph = Graph(param.data, ax, param.g_size)\n",
        "    data_graph.draw_all()\n",
        "\n",
        "    text = TextOnGraph(data_graph)\n",
        "    text.draw_text('Correlation: ' + str(param.cor_real[-1]), 'g')\n",
        "    text.draw_text('Your guess: ' + str(param.cor_guess[-1]), 'b')\n",
        "\n",
        "    data_std = DataStandardized(param.data)\n",
        "    ax_std = fig.add_subplot(gs[:-1, 2:])\n",
        "\n",
        "    data_std_graph = Graph(data_std, ax_std, param.g_size)\n",
        "    data_std_graph.draw_all()\n",
        "\n",
        "    text = TextOnGraph(data_std_graph)\n",
        "    text.draw_text('Correlation: ' + str(param.cor_real[-1]), 'g')\n",
        "    text.draw_text('Your guess: ' + str(param.cor_guess[-1]), 'b')\n",
        "    ax_plot = fig.add_subplot(gs[-1, :])\n",
        "    plot_results(ax_plot, param)"
      ],
      "execution_count": null,
      "outputs": []
    },
    {
      "cell_type": "code",
      "metadata": {
        "id": "U6yqSsXzfQk5"
      },
      "source": [
        "def plot_results(ax_plot, param):\n",
        "    ax_plot.set_xlim(1, len(param.cor_real) + 1)\n",
        "    ax_plot.set_ylim(-1, 1)\n",
        "    ax_plot.plot(range(1, len(param.cor_real) + 1), param.cor_real, \n",
        "                 linewidth=param.g_size/3, c='g')\n",
        "    ax_plot.plot(range(1, len(param.cor_guess) + 1), param.cor_guess, \n",
        "                 linewidth=param.g_size/3, c='b')\n",
        "    ax_plot.plot([0, len(param.cor_guess) + 1], [0,0], \n",
        "                 linewidth=param.g_size/15, c='black')\n",
        "    ax_plot.scatter(range(1, len(param.cor_real) + 1), param.cor_real,\n",
        "                    s=8*param.g_size, c='g')\n",
        "    ax_plot.scatter(range(1, len(param.cor_guess) + 1), param.cor_guess, \n",
        "                    s=8*param.g_size, c='b')\n",
        "    ax_plot.locator_params(nbins=int(1.5*param.g_size))\n",
        "    ax_plot.tick_params(labelsize=param.g_size)\n",
        "    ax_plot.set_xticks(np.arange(1, len(param.cor_guess) + 2))"
      ],
      "execution_count": null,
      "outputs": []
    },
    {
      "cell_type": "code",
      "metadata": {
        "id": "hcpSXJnLfQk5"
      },
      "source": [
        "class for_widgets:\n",
        "    def __init__(self):\n",
        "        self.data = None\n",
        "        self.g_size = 8\n",
        "        self.cor_real = []\n",
        "        self.cor_guess = []"
      ],
      "execution_count": null,
      "outputs": []
    },
    {
      "cell_type": "code",
      "metadata": {
        "id": "HXPim6zsfQk5"
      },
      "source": [
        "layout = ipw.Layout(width='800px', height='40px')\n",
        "cor_widget = ipw.widgets.FloatSlider(value=0, min=-1, max=1, step=0.01, \n",
        "                description = \"Correlation\",layout = layout)\n",
        "cor_button = ipw.widgets.Button(description=\"Submit!\")\n",
        "next_button = ipw.widgets.Button(description=\"Next graph!\")\n",
        "\n",
        "output = ipw.widgets.Output()\n",
        "all_widgets = ipw.widgets.HBox([cor_widget, cor_button])\n",
        "\n",
        "def submit_cor(b):\n",
        "    param.cor_guess.append(cor_widget.value)\n",
        "    param.cor_real.append(round(param.data.cor, 2))\n",
        "    clear_output()\n",
        "    display(next_button)\n",
        "    show_correct_graph(param)\n",
        "    \n",
        "def next_graph(b):\n",
        "    clear_output()\n",
        "    tilt_angle = np.random.randint(-89,90,1)[0]\n",
        "    spread = np.random.uniform(0,1,1)[0]\n",
        "    cor_widget.value = 0\n",
        "    display(all_widgets)\n",
        "    create_graph(tilt_angle, spread, param)\n",
        "\n",
        "cor_button.on_click(submit_cor)\n",
        "next_button.on_click(next_graph)"
      ],
      "execution_count": null,
      "outputs": []
    },
    {
      "cell_type": "code",
      "metadata": {
        "id": "N8NUmkmAfQk5",
        "outputId": "5acb76a3-fdf0-4705-f74e-f9864461b2ee",
        "colab": {
          "referenced_widgets": [
            "f58efd6948364f87ac346bee85e9c575"
          ]
        }
      },
      "source": [
        "param = for_widgets()\n",
        "next_graph(0)"
      ],
      "execution_count": null,
      "outputs": [
        {
          "output_type": "display_data",
          "data": {
            "application/vnd.jupyter.widget-view+json": {
              "model_id": "f58efd6948364f87ac346bee85e9c575",
              "version_major": 2,
              "version_minor": 0
            },
            "text/plain": [
              "Button(description='Next graph!', style=ButtonStyle())"
            ]
          },
          "metadata": {
            "tags": []
          }
        },
        {
          "output_type": "display_data",
          "data": {
            "image/png": "[encoded data removed]",
            "text/plain": [
              "<Figure size 1152x864 with 3 Axes>"
            ]
          },
          "metadata": {
            "tags": [],
            "needs_background": "light"
          }
        }
      ]
    },
    {
      "cell_type": "code",
      "metadata": {
        "id": "VUa7WwN3fQk7"
      },
      "source": [
        "\"\"\"\n",
        "\n",
        "\n",
        "\n",
        "\n",
        "\n",
        "\n",
        "\n",
        "\n",
        "\n",
        "\n",
        "\n",
        "\n",
        "\n",
        "\n",
        "\n",
        "\n",
        "\n",
        "\n",
        "\n",
        "\n",
        "\n",
        "\n",
        "\n",
        "\n",
        "\n",
        "\n",
        "\n",
        "\n",
        "\n",
        "\n",
        "\n",
        "\n",
        "\n",
        "\n",
        "\n",
        "\n",
        "\n",
        "\n",
        "\n",
        "\n",
        "\n",
        "\n",
        "\n",
        "\n",
        "\n",
        "\n",
        "\n",
        "\n",
        "\n",
        "\n",
        "\n",
        "\n",
        "\n",
        "\n",
        "\"\"\""
      ],
      "execution_count": null,
      "outputs": []
    }
  ]
}